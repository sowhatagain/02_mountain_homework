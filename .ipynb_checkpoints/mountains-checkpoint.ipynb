{
 "cells": [
  {
   "cell_type": "code",
   "execution_count": 104,
   "metadata": {
    "collapsed": true
   },
   "outputs": [],
   "source": [
    "import pandas as pd\n",
    "import numpy as np"
   ]
  },
  {
   "cell_type": "code",
   "execution_count": 106,
   "metadata": {},
   "outputs": [],
   "source": [
    "data = pd.read_csv('Mountains.csv',  delimiter = ',')\n",
    "#data.head(10)\n",
    "#data.info()"
   ]
  },
  {
   "cell_type": "code",
   "execution_count": 129,
   "metadata": {},
   "outputs": [
    {
     "data": {
      "text/html": [
       "<div>\n",
       "<style>\n",
       "    .dataframe thead tr:only-child th {\n",
       "        text-align: right;\n",
       "    }\n",
       "\n",
       "    .dataframe thead th {\n",
       "        text-align: left;\n",
       "    }\n",
       "\n",
       "    .dataframe tbody tr th {\n",
       "        vertical-align: top;\n",
       "    }\n",
       "</style>\n",
       "<table border=\"1\" class=\"dataframe\">\n",
       "  <thead>\n",
       "    <tr style=\"text-align: right;\">\n",
       "      <th></th>\n",
       "      <th>Mountain</th>\n",
       "      <th>Parent</th>\n",
       "      <th>Amount</th>\n",
       "    </tr>\n",
       "  </thead>\n",
       "  <tbody>\n",
       "    <tr>\n",
       "      <th>0</th>\n",
       "      <td>Mount Everest / Sagarmatha / Chomolungma</td>\n",
       "      <td>Main</td>\n",
       "      <td>1</td>\n",
       "    </tr>\n",
       "    <tr>\n",
       "      <th>1</th>\n",
       "      <td>K2 / Qogir / Godwin Austen</td>\n",
       "      <td>Mount Everest</td>\n",
       "      <td>1</td>\n",
       "    </tr>\n",
       "    <tr>\n",
       "      <th>2</th>\n",
       "      <td>Kangchenjunga</td>\n",
       "      <td>Mount Everest</td>\n",
       "      <td>1</td>\n",
       "    </tr>\n",
       "  </tbody>\n",
       "</table>\n",
       "</div>"
      ],
      "text/plain": [
       "                                   Mountain         Parent  Amount\n",
       "0  Mount Everest / Sagarmatha / Chomolungma           Main       1\n",
       "1                K2 / Qogir / Godwin Austen  Mount Everest       1\n",
       "2                             Kangchenjunga  Mount Everest       1"
      ]
     },
     "execution_count": 129,
     "metadata": {},
     "output_type": "execute_result"
    }
   ],
   "source": [
    "data.loc[pd.isnull( data['Parent mountain'] ) ].head() # нет названия родителя (1 entry is null)\n",
    "data['Parent mountain'].fillna(\"Main\", inplace = True ) # для удобства работы заменим на Main\n",
    "\n",
    "only_mountain = {'Mountain':data['Mountain'], 'Parent':data['Parent mountain']} #работаем только с названиями гор\n",
    "data_mountains= pd.DataFrame(only_mountain)\n",
    "#data_mountains.head(10)\n",
    "#data_mountains.info()\n",
    "\n",
    "data_mountains['Amount'] = 1            #флаг для count() group by \n",
    "data_mountains.head(3)"
   ]
  },
  {
   "cell_type": "code",
   "execution_count": 133,
   "metadata": {},
   "outputs": [
    {
     "data": {
      "text/html": [
       "<div>\n",
       "<style>\n",
       "    .dataframe thead tr:only-child th {\n",
       "        text-align: right;\n",
       "    }\n",
       "\n",
       "    .dataframe thead th {\n",
       "        text-align: left;\n",
       "    }\n",
       "\n",
       "    .dataframe tbody tr th {\n",
       "        vertical-align: top;\n",
       "    }\n",
       "</style>\n",
       "<table border=\"1\" class=\"dataframe\">\n",
       "  <thead>\n",
       "    <tr style=\"text-align: right;\">\n",
       "      <th></th>\n",
       "      <th>Amount</th>\n",
       "    </tr>\n",
       "    <tr>\n",
       "      <th>Parent</th>\n",
       "      <th></th>\n",
       "    </tr>\n",
       "  </thead>\n",
       "  <tbody>\n",
       "    <tr>\n",
       "      <th>Mount Everest</th>\n",
       "      <td>9</td>\n",
       "    </tr>\n",
       "    <tr>\n",
       "      <th>Gasherbrum I</th>\n",
       "      <td>8</td>\n",
       "    </tr>\n",
       "    <tr>\n",
       "      <th>Cho Oyu</th>\n",
       "      <td>7</td>\n",
       "    </tr>\n",
       "    <tr>\n",
       "      <th>Kangchenjunga</th>\n",
       "      <td>7</td>\n",
       "    </tr>\n",
       "    <tr>\n",
       "      <th>Distaghil Sar</th>\n",
       "      <td>5</td>\n",
       "    </tr>\n",
       "    <tr>\n",
       "      <th>K2</th>\n",
       "      <td>5</td>\n",
       "    </tr>\n",
       "    <tr>\n",
       "      <th>Dhaulagiri</th>\n",
       "      <td>4</td>\n",
       "    </tr>\n",
       "    <tr>\n",
       "      <th>Shisha Pangma</th>\n",
       "      <td>4</td>\n",
       "    </tr>\n",
       "  </tbody>\n",
       "</table>\n",
       "</div>"
      ],
      "text/plain": [
       "               Amount\n",
       "Parent               \n",
       "Mount Everest       9\n",
       "Gasherbrum I        8\n",
       "Cho Oyu             7\n",
       "Kangchenjunga       7\n",
       "Distaghil Sar       5\n",
       "K2                  5\n",
       "Dhaulagiri          4\n",
       "Shisha Pangma       4"
      ]
     },
     "execution_count": 133,
     "metadata": {},
     "output_type": "execute_result"
    }
   ],
   "source": [
    "parent_mountains = data_mountains.groupby('Parent').sum() # группируем по количеству родителей\n",
    "#parent_mountains.head(100) \n",
    "\n",
    "mask = (parent_mountains.Amount > 3)          # отбираем с числом вершин больше трех\n",
    "mountains_over_three = parent_mountains.loc[ mask ]\n",
    "\n",
    "#выведем в файл\n",
    "mountains_over_three.to_csv( 'Mountains_groups_over_three_count.csv', sep = ',', na_rep = '0', columns = ['Amount'], index = True )\n",
    "\n",
    "mountains_over_three.sort_values( by = 'Amount', ascending = False ).head(10)\n"
   ]
  },
  {
   "cell_type": "code",
   "execution_count": null,
   "metadata": {
    "collapsed": true
   },
   "outputs": [],
   "source": []
  }
 ],
 "metadata": {
  "kernelspec": {
   "display_name": "Python 3",
   "language": "python",
   "name": "python3"
  },
  "language_info": {
   "codemirror_mode": {
    "name": "ipython",
    "version": 3
   },
   "file_extension": ".py",
   "mimetype": "text/x-python",
   "name": "python",
   "nbconvert_exporter": "python",
   "pygments_lexer": "ipython3",
   "version": "3.6.2"
  }
 },
 "nbformat": 4,
 "nbformat_minor": 2
}
